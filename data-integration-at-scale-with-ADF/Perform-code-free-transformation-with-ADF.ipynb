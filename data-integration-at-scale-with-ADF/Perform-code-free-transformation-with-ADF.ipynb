{
 "cells": [
  {
   "cell_type": "markdown",
   "metadata": {},
   "source": [
    "## Introduction\n",
    "\n",
    "ADF provides an array of tools that enables you to transform and cleanse data to your business requirements. Many common transformation tasks can be performed code free, using the Mapping Data Flow task. You can also make use of other Azure Data Services to perform the work, and even make use of existing SQL Server Integration Packages that you have. ADF also enables you to do data exploration using Wrangling Data Flows.\n",
    "\n",
    "## ADF Transformation Methods\n",
    "\n",
    "Just as ADF provides a variety of methods for ingesting data, it also provides a range of methods to perform transformations. \n",
    "\n",
    "### Transformation with Mapping Data Flow\n",
    "\n",
    "Mapping Data Flows provide an environment for building a wide range of data transformations visually without the need to use code. The resulting data flows that are created are subsequentyly executed on scaled-out Apache Spark clusters that are automatically provisioned when you execute the Mapping Data Flow. \n",
    "\n",
    "### Transformation with Compute Resources\n",
    "\n",
    "ADF can call on compute resources to transform data by a data platform service that may be better suited the job. Example: 1. ADF can create a pipeline to an analytical data platform such as Spark pools in Azure Synapse Analytics instance to perform a complex calculation using python. 2. Send data to an Azure SQL Database instance to execute a stored procedure using T-SQL. \n",
    "\n",
    "### Transformation with SQL Server Integration Services (SSIS) Packages\n",
    "\n",
    "ADF provides ability to life and shift existing SSIS workload by creating an Azure-SSIS Integration Runtime to natively execute SSIS packages. \n",
    "\n",
    "## ADF Transformation Types\n",
    "\n",
    "|Category Name|Description|Example|\n",
    "|---|---|---|\n",
    "|Schema modifier transformations| These types of transformations will make a modification to a sink destination by creating new columns based on the action of the transformation.| The Derived Column transformation that will create a new column based on the operations performed on existing column.|\n",
    "|Row modifier transformations| These types of transformations impact how the rows are presented in the destination.|Sort transformation that orders the data.|\n",
    "|Multiple inputs/outputs transformations| These types of transformations will generate new data pipelines or merge pipelines into one.| The Union transformation that combines multiple data streams.|\n",
    "\n",
    "### Data Flow Expression Buillder\n",
    "\n",
    "Some of the transformations that you can define have a Data Flow Expression Builder that will enable you to customize the functionality of transformation using columns, fields, variables, parameters, functions from your data flow in these boxes. "
   ]
  }
 ],
 "metadata": {
  "language_info": {
   "name": "python"
  }
 },
 "nbformat": 4,
 "nbformat_minor": 2
}
