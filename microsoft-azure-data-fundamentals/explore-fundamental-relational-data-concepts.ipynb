{
 "cells": [
  {
   "cell_type": "markdown",
   "metadata": {},
   "source": [
    "## Introduction\n",
    "\n",
    "The relational database model was designed to solve the problem of arbitrary data structures. It provides a standard way of representing and querying data that can be used by any application. Key advantage of relational database model is its use of tables. \n",
    "\n",
    "## Understand normalization\n",
    "\n",
    "Normalization is used for schema design process that minimizes data duplication and enforces data integrity. A simple defintion for practical purposes is:\n",
    "- separate each entity into its own table\n",
    "- separate each discrete attribute into its own column\n",
    "- uniquely identify each entity instance (row) using a primary key\n",
    "- use foreign key columns to link related entities\n",
    "\n",
    "## Structured Query Language (SQL)\n",
    "\n",
    "Some common relational database management systems that use SQL: \n",
    "- Microsoft SQL Server - Transact-SQL (T-SQL)\n",
    "- MySQL\n",
    "- PostgreSQL - PostgreSQL\n",
    "- MariaDB\n",
    "- Oracle - Procedural Language/SQL (PL/SQL)\n",
    "\n",
    "### SQL statement types\n",
    "\n",
    "- DDL statements: create, modify, remove tables and other objects in database (table, stored procedures, views, etc)\n",
    "- DCL statements: database admin use DCL statements to manage access to objects in database by granting, denying or revoking permissions to specific users or groups\n",
    "- DML statements: retrieve, insert, modify, delete data from tables\n",
    "\n",
    "## Database objects\n",
    "\n",
    "- View: a virtual table based on the results of a SELECT query. \n",
    "- Store procedure: defines SQL statements that can be run on command. It's also used to encapsulate programmatic logic in a database for actions that applications need to perform when working with data.\n",
    "- Index: a structure that enables queries to locate rows in a table quickly. Many indexes can be created on the same table. For example, if you wanted to find products based on price, create an index on the price column of product table will be helpful. If you want to search product by name, create an index on the product name column will speed up the search. \n",
    "    - index takes storage space and it should be maintained when there's data update in tables \n",
    "    - it might not be worthy to have index on a table with only a few rows of data"
   ]
  }
 ],
 "metadata": {
  "language_info": {
   "name": "python"
  }
 },
 "nbformat": 4,
 "nbformat_minor": 2
}
